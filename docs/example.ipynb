{
    "cells": [
        {
            "cell_type": "markdown",
            "metadata": {},
            "source": [
                "# Example usage\n",
                "\n",
                "To use `ssppy` in a project:"
            ]
        },
        {
            "cell_type": "code",
            "execution_count": 4,
            "metadata": {},
            "outputs": [
                {
                    "name": "stdout",
                    "output_type": "stream",
                    "text": [
                        "0.1.0\n"
                    ]
                }
            ],
            "source": [
                "import ssppy as spy\n",
                "\n",
                "print(spy.__version__)"
            ]
        },
        {
            "cell_type": "code",
            "execution_count": 5,
            "metadata": {},
            "outputs": [],
            "source": [
                "from ssppy.reader_functions import *\n",
                "from ssppy.visibility_functions import *\n",
                "from ssppy.shadow_functions import *\n",
                "from ssppy.power_functions import *\n",
                "from ssppy.energy_functions import *"
            ]
        },
        {
            "cell_type": "code",
            "execution_count": 6,
            "metadata": {},
            "outputs": [],
            "source": [
                "import numpy as np\n",
                "import pandas as pd\n",
                "import math\n",
                "import matplotlib.pyplot as plt\n",
                "import scipy"
            ]
        },
        {
            "cell_type": "code",
            "execution_count": 7,
            "metadata": {},
            "outputs": [
                {
                    "data": {
                        "text/html": [
                            "<div>\n",
                            "<style scoped>\n",
                            "    .dataframe tbody tr th:only-of-type {\n",
                            "        vertical-align: middle;\n",
                            "    }\n",
                            "\n",
                            "    .dataframe tbody tr th {\n",
                            "        vertical-align: top;\n",
                            "    }\n",
                            "\n",
                            "    .dataframe thead th {\n",
                            "        text-align: right;\n",
                            "    }\n",
                            "</style>\n",
                            "<table border=\"1\" class=\"dataframe\">\n",
                            "  <thead>\n",
                            "    <tr style=\"text-align: right;\">\n",
                            "      <th></th>\n",
                            "      <th>DefaultSC.UTCGregorian</th>\n",
                            "      <th>DefaultSC.ElapsedDays</th>\n",
                            "      <th>DefaultSC.EarthFixed.X</th>\n",
                            "      <th>DefaultSC.EarthFixed.Y</th>\n",
                            "      <th>DefaultSC.EarthFixed.Z</th>\n",
                            "      <th>Sun.EarthFixed.X</th>\n",
                            "      <th>Sun.EarthFixed.Y</th>\n",
                            "      <th>Sun.EarthFixed.Z</th>\n",
                            "    </tr>\n",
                            "  </thead>\n",
                            "  <tbody>\n",
                            "    <tr>\n",
                            "      <th>0</th>\n",
                            "      <td>01 Jan 2000 11:59:28.000</td>\n",
                            "      <td>0.000000</td>\n",
                            "      <td>7559.611353</td>\n",
                            "      <td>41480.952527</td>\n",
                            "      <td>-1.057679</td>\n",
                            "      <td>1.353586e+08</td>\n",
                            "      <td>2.266850e+06</td>\n",
                            "      <td>-5.755367e+07</td>\n",
                            "    </tr>\n",
                            "    <tr>\n",
                            "      <th>1</th>\n",
                            "      <td>01 Jan 2000 12:16:08.000</td>\n",
                            "      <td>0.011574</td>\n",
                            "      <td>7604.779466</td>\n",
                            "      <td>41469.275566</td>\n",
                            "      <td>532.297186</td>\n",
                            "      <td>1.351666e+08</td>\n",
                            "      <td>-7.570830e+06</td>\n",
                            "      <td>-5.755151e+07</td>\n",
                            "    </tr>\n",
                            "    <tr>\n",
                            "      <th>2</th>\n",
                            "      <td>01 Jan 2000 14:01:23.181</td>\n",
                            "      <td>0.084666</td>\n",
                            "      <td>7805.651341</td>\n",
                            "      <td>41267.747089</td>\n",
                            "      <td>3721.552987</td>\n",
                            "      <td>1.178203e+08</td>\n",
                            "      <td>-6.668783e+07</td>\n",
                            "      <td>-5.753782e+07</td>\n",
                            "    </tr>\n",
                            "    <tr>\n",
                            "      <th>3</th>\n",
                            "      <td>01 Jan 2000 16:12:21.034</td>\n",
                            "      <td>0.175614</td>\n",
                            "      <td>7719.527232</td>\n",
                            "      <td>40931.234138</td>\n",
                            "      <td>6544.925394</td>\n",
                            "      <td>6.305959e+07</td>\n",
                            "      <td>-1.198095e+08</td>\n",
                            "      <td>-5.752060e+07</td>\n",
                            "    </tr>\n",
                            "    <tr>\n",
                            "      <th>4</th>\n",
                            "      <td>01 Jan 2000 18:27:36.678</td>\n",
                            "      <td>0.269545</td>\n",
                            "      <td>7366.191179</td>\n",
                            "      <td>40875.671081</td>\n",
                            "      <td>7261.259950</td>\n",
                            "      <td>-1.425836e+07</td>\n",
                            "      <td>-1.346461e+08</td>\n",
                            "      <td>-5.750259e+07</td>\n",
                            "    </tr>\n",
                            "    <tr>\n",
                            "      <th>...</th>\n",
                            "      <td>...</td>\n",
                            "      <td>...</td>\n",
                            "      <td>...</td>\n",
                            "      <td>...</td>\n",
                            "      <td>...</td>\n",
                            "      <td>...</td>\n",
                            "      <td>...</td>\n",
                            "      <td>...</td>\n",
                            "    </tr>\n",
                            "    <tr>\n",
                            "      <th>21541</th>\n",
                            "      <td>31 Dec 2004 03:58:47.914</td>\n",
                            "      <td>1825.666203</td>\n",
                            "      <td>9183.819670</td>\n",
                            "      <td>39808.199494</td>\n",
                            "      <td>-6488.483360</td>\n",
                            "      <td>-6.983538e+07</td>\n",
                            "      <td>1.159185e+08</td>\n",
                            "      <td>-5.765840e+07</td>\n",
                            "    </tr>\n",
                            "    <tr>\n",
                            "      <th>21542</th>\n",
                            "      <td>31 Dec 2004 06:11:19.561</td>\n",
                            "      <td>1825.758236</td>\n",
                            "      <td>7948.044140</td>\n",
                            "      <td>40028.515775</td>\n",
                            "      <td>-7090.574381</td>\n",
                            "      <td>4.850521e+06</td>\n",
                            "      <td>1.352495e+08</td>\n",
                            "      <td>-5.764197e+07</td>\n",
                            "    </tr>\n",
                            "    <tr>\n",
                            "      <th>21543</th>\n",
                            "      <td>31 Dec 2004 08:23:26.777</td>\n",
                            "      <td>1825.849986</td>\n",
                            "      <td>7160.989356</td>\n",
                            "      <td>40768.656280</td>\n",
                            "      <td>-5263.305243</td>\n",
                            "      <td>7.777110e+07</td>\n",
                            "      <td>1.107676e+08</td>\n",
                            "      <td>-5.762549e+07</td>\n",
                            "    </tr>\n",
                            "    <tr>\n",
                            "      <th>21544</th>\n",
                            "      <td>31 Dec 2004 10:36:31.760</td>\n",
                            "      <td>1825.942405</td>\n",
                            "      <td>7220.586692</td>\n",
                            "      <td>41521.923427</td>\n",
                            "      <td>-1639.798801</td>\n",
                            "      <td>1.257870e+08</td>\n",
                            "      <td>4.997311e+07</td>\n",
                            "      <td>-5.760875e+07</td>\n",
                            "    </tr>\n",
                            "    <tr>\n",
                            "      <th>21545</th>\n",
                            "      <td>31 Dec 2004 12:00:35.751</td>\n",
                            "      <td>1826.000784</td>\n",
                            "      <td>7617.316534</td>\n",
                            "      <td>41766.303897</td>\n",
                            "      <td>1019.685446</td>\n",
                            "      <td>1.353458e+08</td>\n",
                            "      <td>1.552986e+06</td>\n",
                            "      <td>-5.759810e+07</td>\n",
                            "    </tr>\n",
                            "  </tbody>\n",
                            "</table>\n",
                            "<p>21546 rows × 8 columns</p>\n",
                            "</div>"
                        ],
                        "text/plain": [
                            "         DefaultSC.UTCGregorian  DefaultSC.ElapsedDays   \n",
                            "0      01 Jan 2000 11:59:28.000               0.000000  \\\n",
                            "1      01 Jan 2000 12:16:08.000               0.011574   \n",
                            "2      01 Jan 2000 14:01:23.181               0.084666   \n",
                            "3      01 Jan 2000 16:12:21.034               0.175614   \n",
                            "4      01 Jan 2000 18:27:36.678               0.269545   \n",
                            "...                         ...                    ...   \n",
                            "21541  31 Dec 2004 03:58:47.914            1825.666203   \n",
                            "21542  31 Dec 2004 06:11:19.561            1825.758236   \n",
                            "21543  31 Dec 2004 08:23:26.777            1825.849986   \n",
                            "21544  31 Dec 2004 10:36:31.760            1825.942405   \n",
                            "21545  31 Dec 2004 12:00:35.751            1826.000784   \n",
                            "\n",
                            "       DefaultSC.EarthFixed.X  DefaultSC.EarthFixed.Y  DefaultSC.EarthFixed.Z   \n",
                            "0                 7559.611353            41480.952527               -1.057679  \\\n",
                            "1                 7604.779466            41469.275566              532.297186   \n",
                            "2                 7805.651341            41267.747089             3721.552987   \n",
                            "3                 7719.527232            40931.234138             6544.925394   \n",
                            "4                 7366.191179            40875.671081             7261.259950   \n",
                            "...                       ...                     ...                     ...   \n",
                            "21541             9183.819670            39808.199494            -6488.483360   \n",
                            "21542             7948.044140            40028.515775            -7090.574381   \n",
                            "21543             7160.989356            40768.656280            -5263.305243   \n",
                            "21544             7220.586692            41521.923427            -1639.798801   \n",
                            "21545             7617.316534            41766.303897             1019.685446   \n",
                            "\n",
                            "       Sun.EarthFixed.X  Sun.EarthFixed.Y  Sun.EarthFixed.Z  \n",
                            "0          1.353586e+08      2.266850e+06     -5.755367e+07  \n",
                            "1          1.351666e+08     -7.570830e+06     -5.755151e+07  \n",
                            "2          1.178203e+08     -6.668783e+07     -5.753782e+07  \n",
                            "3          6.305959e+07     -1.198095e+08     -5.752060e+07  \n",
                            "4         -1.425836e+07     -1.346461e+08     -5.750259e+07  \n",
                            "...                 ...               ...               ...  \n",
                            "21541     -6.983538e+07      1.159185e+08     -5.765840e+07  \n",
                            "21542      4.850521e+06      1.352495e+08     -5.764197e+07  \n",
                            "21543      7.777110e+07      1.107676e+08     -5.762549e+07  \n",
                            "21544      1.257870e+08      4.997311e+07     -5.760875e+07  \n",
                            "21545      1.353458e+08      1.552986e+06     -5.759810e+07  \n",
                            "\n",
                            "[21546 rows x 8 columns]"
                        ]
                    },
                    "execution_count": 7,
                    "metadata": {},
                    "output_type": "execute_result"
                }
            ],
            "source": [
                "data = pd.read_fwf('GMAT_TEST_DATA_5_YR_GEO_SK.txt')\n",
                "data"
            ]
        },
        {
            "cell_type": "code",
            "execution_count": 8,
            "metadata": {},
            "outputs": [],
            "source": [
                "ground_station_coords = np.array([17, 78, 500])\n",
                "ground_station_coords = geodetic_to_ECEF(ground_station_coords)\n",
                "min_elevation_angle = 30 # degrees"
            ]
        },
        {
            "cell_type": "code",
            "execution_count": 9,
            "metadata": {},
            "outputs": [
                {
                    "data": {
                        "text/plain": [
                            "array([5599.3446907 , 2912.11884843, -931.84271377])"
                        ]
                    },
                    "execution_count": 9,
                    "metadata": {},
                    "output_type": "execute_result"
                }
            ],
            "source": [
                "spy.visibility_functions.geodetic_to_ECEF(ground_station_coords)"
            ]
        },
        {
            "cell_type": "code",
            "execution_count": 10,
            "metadata": {},
            "outputs": [],
            "source": [
                "initial_power = 1_000_000_000 # 1GW\n",
                "annual_deg_rate = 0.03 # in %"
            ]
        },
        {
            "cell_type": "code",
            "execution_count": 11,
            "metadata": {},
            "outputs": [],
            "source": [
                "power_values = []\n",
                "\n",
                "for i in range(data.shape[0]):\n",
                "  sat_coords = read_sat_coords(data, i)\n",
                "  sun_coords = read_sun_coords(data, i)\n",
                "  elapsed_days = read_elapsed_days(data, i) ############ make sure data contains this column\n",
                "\n",
                "  V = visibility(ground_station_coords, sat_coords, min_elevation_angle)\n",
                "  S = shadow(sat_coords, sun_coords)# shadow value\n",
                "\n",
                "  dist_power_factor = dist_factor(sat_coords, sun_coords)\n",
                "  deg_power_factor = deg_factor(annual_deg_rate, elapsed_days)\n",
                "  current_max_power = current_power(initial_power, dist_power_factor, deg_power_factor) ## note accounting for visibility or shadow\n",
                "  power = power_calculation(current_max_power, V, S)\n",
                "  \n",
                "  # appending to list of power values\n",
                "  power_values.append(power)"
            ]
        },
        {
            "cell_type": "code",
            "execution_count": 12,
            "metadata": {},
            "outputs": [],
            "source": [
                "power_data = pd.DataFrame({'Elapsed Days': data['DefaultSC.ElapsedDays'], 'Power': power_values})\n",
                "total_energy = energy_calculation(power_data)"
            ]
        },
        {
            "cell_type": "code",
            "execution_count": 13,
            "metadata": {},
            "outputs": [
                {
                    "data": {
                        "text/plain": [
                            "'7_999_946_912.853038 kWh'"
                        ]
                    },
                    "execution_count": 13,
                    "metadata": {},
                    "output_type": "execute_result"
                }
            ],
            "source": [
                "total_days = power_data['Elapsed Days'].iloc[-1]\n",
                "yearly_output = yearly_energy_output(total_energy, total_days)\n",
                "\"{:_}\".format(yearly_output) + \" kWh\""
            ]
        },
        {
            "cell_type": "code",
            "execution_count": 14,
            "metadata": {},
            "outputs": [
                {
                    "data": {
                        "text/plain": [
                            "[<matplotlib.lines.Line2D at 0x122c81940>]"
                        ]
                    },
                    "execution_count": 14,
                    "metadata": {},
                    "output_type": "execute_result"
                },
                {
                    "data": {
                        "image/png": "[encoded data removed]",
                        "text/plain": [
                            "<Figure size 640x480 with 1 Axes>"
                        ]
                    },
                    "metadata": {},
                    "output_type": "display_data"
                }
            ],
            "source": [
                "plt.plot(power_data['Elapsed Days'], power_data['Power'])"
            ]
        },
        {
            "cell_type": "code",
            "execution_count": null,
            "metadata": {},
            "outputs": [],
            "source": []
        }
    ],
    "metadata": {
        "kernelspec": {
            "display_name": "Python 3.9.16",
            "language": "python",
            "name": "python3"
        },
        "language_info": {
            "codemirror_mode": {
                "name": "ipython",
                "version": 3
            },
            "file_extension": ".py",
            "mimetype": "text/x-python",
            "name": "python",
            "nbconvert_exporter": "python",
            "pygments_lexer": "ipython3",
            "version": "3.9.16"
        },
        "vscode": {
            "interpreter": {
                "hash": "6abe6144496dd1be59c4caa5a611931c66b8e8bfc2f1a03703480d8f34aa9abb"
            }
        }
    },
    "nbformat": 4,
    "nbformat_minor": 4
}
